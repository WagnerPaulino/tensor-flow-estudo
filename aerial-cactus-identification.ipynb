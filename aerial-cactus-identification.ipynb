{
  "nbformat": 4,
  "nbformat_minor": 0,
  "metadata": {
    "colab": {
      "name": "aerial-cactus-identification.ipynb",
      "provenance": [],
      "collapsed_sections": []
    },
    "kernelspec": {
      "display_name": "Python 3",
      "language": "python",
      "name": "python3"
    },
    "language_info": {
      "codemirror_mode": {
        "name": "ipython",
        "version": 3
      },
      "file_extension": ".py",
      "mimetype": "text/x-python",
      "name": "python",
      "nbconvert_exporter": "python",
      "pygments_lexer": "ipython3",
      "version": "3.6.9"
    }
  },
  "cells": [
    {
      "cell_type": "code",
      "metadata": {
        "colab_type": "code",
        "id": "b0yxA3cPVE4K",
        "colab": {}
      },
      "source": [
        "! rm -rf data/aerial-cactus-identification\n",
        "! pip install kaggle\n",
        "! kaggle competitions download -c aerial-cactus-identification -p data/\n",
        "! unzip data/aerial-cactus-identification.zip -d data/aerial-cactus-identification\n",
        "! unzip data/aerial-cactus-identification/train.zip -d data/aerial-cactus-identification\n",
        "! unzip data/aerial-cactus-identification/test.zip -d data/aerial-cactus-identification"
      ],
      "execution_count": null,
      "outputs": []
    },
    {
      "cell_type": "code",
      "metadata": {
        "colab_type": "code",
        "id": "wx0-vfPHYa2E",
        "colab": {}
      },
      "source": [
        "import numpy as np\n",
        "import pandas as pd\n",
        "import tensorflow as tf\n",
        "from tensorflow import keras\n",
        "from tensorflow.keras import Sequential\n",
        "from tensorflow.keras.layers import Dense, Activation\n",
        "from tensorflow.keras.optimizers import Adam\n",
        "from tensorflow.keras.metrics import categorical_crossentropy\n",
        "from tensorflow.keras.preprocessing.image import ImageDataGenerator\n",
        "from tensorflow.keras.preprocessing import image\n",
        "from tensorflow.keras.models import Model\n",
        "from tensorflow.keras.applications import imagenet_utils\n",
        "import shutil\n",
        "import os"
      ],
      "execution_count": 2,
      "outputs": []
    },
    {
      "cell_type": "code",
      "metadata": {
        "colab_type": "code",
        "id": "PVCVSNIGYbjY",
        "colab": {}
      },
      "source": [
        "train_set_path = \"data/aerial-cactus-identification/train\"\n",
        "test_set_path = \"data/aerial-cactus-identification\""
      ],
      "execution_count": 3,
      "outputs": []
    },
    {
      "cell_type": "code",
      "metadata": {
        "colab_type": "code",
        "id": "gUoVXdywYfgA",
        "colab": {}
      },
      "source": [
        "train_set = pd.read_csv(\"data/aerial-cactus-identification/train.csv\",sep=\",\", encoding=\"ISO-8859-1\", low_memory=False,)"
      ],
      "execution_count": 4,
      "outputs": []
    },
    {
      "cell_type": "code",
      "metadata": {
        "colab_type": "code",
        "id": "39BDTX6iYhRZ",
        "colab": {}
      },
      "source": [
        "train_root_path = 'data/aerial-cactus-identification/train/'\n",
        "valid_root_path = 'data/aerial-cactus-identification/valid/'"
      ],
      "execution_count": 5,
      "outputs": []
    },
    {
      "cell_type": "code",
      "metadata": {
        "colab_type": "code",
        "id": "xAedz3dmYjIF",
        "colab": {}
      },
      "source": [
        "if os.path.isdir(train_root_path+'no_cactus') is False:\n",
        "    os.makedirs(train_root_path+'no_cactus')\n",
        "if os.path.isdir(train_root_path+'has_cactus') is False:\n",
        "    os.makedirs(train_root_path+'has_cactus')\n",
        "tam = len(list(train_set.itertuples()))\n",
        "for i in list(train_set.itertuples())[:-5000]:\n",
        "    if i.has_cactus == 1:\n",
        "        shutil.move(train_root_path+i.id, train_root_path+'has_cactus')\n",
        "    elif i.has_cactus == 0:\n",
        "        shutil.move(train_root_path+i.id, train_root_path+'no_cactus')"
      ],
      "execution_count": 6,
      "outputs": []
    },
    {
      "cell_type": "code",
      "metadata": {
        "id": "-7Oh28-vMDSL",
        "colab_type": "code",
        "colab": {}
      },
      "source": [
        "if os.path.isdir(valid_root_path+'no_cactus') is False:\n",
        "    os.makedirs(valid_root_path+'no_cactus')\n",
        "if os.path.isdir(valid_root_path+'has_cactus') is False:\n",
        "    os.makedirs(valid_root_path+'has_cactus')\n",
        "for i in list(train_set.itertuples())[-5000:]:\n",
        "    if i.has_cactus == 1:\n",
        "        shutil.move(train_root_path+i.id, valid_root_path+'has_cactus')\n",
        "    elif i.has_cactus == 0:\n",
        "        shutil.move(train_root_path+i.id, valid_root_path+'no_cactus')"
      ],
      "execution_count": 7,
      "outputs": []
    },
    {
      "cell_type": "code",
      "metadata": {
        "colab_type": "code",
        "id": "HXH_LDcFYnLl",
        "colab": {
          "base_uri": "https://localhost:8080/",
          "height": 68
        },
        "outputId": "7b1bc79c-5f4d-4ef9-c16c-c798c55883cb"
      },
      "source": [
        "train_batches = ImageDataGenerator(preprocessing_function=tf.keras.applications.vgg16.preprocess_input) \\\n",
        "    .flow_from_directory(directory=train_set_path, target_size=(224,224), classes=['no_cactus','has_cactus'], batch_size=10)\n",
        "vald_batches = ImageDataGenerator(preprocessing_function=tf.keras.applications.vgg16.preprocess_input) \\\n",
        "    .flow_from_directory(directory=valid_root_path, target_size=(224,224), classes=['no_cactus','has_cactus'], batch_size=10)\n",
        "test_batches = ImageDataGenerator(preprocessing_function=tf.keras.applications.vgg16.preprocess_input) \\\n",
        "    .flow_from_directory(directory=test_set_path, target_size=(224,224), classes=['test'], batch_size=10, shuffle=False)"
      ],
      "execution_count": 8,
      "outputs": [
        {
          "output_type": "stream",
          "text": [
            "Found 12500 images belonging to 2 classes.\n",
            "Found 5000 images belonging to 2 classes.\n",
            "Found 4000 images belonging to 1 classes.\n"
          ],
          "name": "stdout"
        }
      ]
    },
    {
      "cell_type": "code",
      "metadata": {
        "id": "HReC90UHz8rk",
        "colab_type": "code",
        "colab": {
          "base_uri": "https://localhost:8080/",
          "height": 102
        },
        "outputId": "0e9d8f16-a9be-4862-b8c9-435cfd229ab9"
      },
      "source": [
        "class myCallback(tf.keras.callbacks.Callback):\n",
        "    def on_epoch_end(self, epoch, logs={}):\n",
        "      if(logs.get('accuracy')>=0.9):\n",
        "          self.model.stop_training = True\n",
        "model = Sequential()\n",
        "# input_shape = train_batches.image_shape\n",
        "# model.add(tf.keras.layers.Conv2D(32, kernel_size=(3, 3), activation='relu', input_shape=input_shape))\n",
        "# model.add(tf.keras.layers.Conv2D(64, kernel_size=(3, 3), activation='relu'))\n",
        "# model.add(tf.keras.layers.Flatten())\n",
        "# model.add(tf.keras.layers.Dense(128, activation='relu'))\n",
        "# model.add(tf.keras.layers.Dense(2, activation='softmax'))\n",
        "vgg16_model = tf.keras.applications.vgg16.VGG16()\n",
        "\n",
        "for layer in vgg16_model.layers[:-1]:\n",
        "  model.add(layer)\n",
        "\n",
        "for layer in model.layers:\n",
        "  layer.trainable = False\n",
        "\n",
        "model.add(keras.layers.Dense(2, activation='sigmoid'))\n",
        "model.compile(optimizer=Adam(), \n",
        "              loss=tf.keras.losses.BinaryCrossentropy(),\n",
        "              metrics=['accuracy'])\n",
        "model.fit(x=train_batches, epochs=10,callbacks=[myCallback()], validation_data=vald_batches, verbose=2)"
      ],
      "execution_count": 10,
      "outputs": [
        {
          "output_type": "stream",
          "text": [
            "Downloading data from https://storage.googleapis.com/tensorflow/keras-applications/vgg16/vgg16_weights_tf_dim_ordering_tf_kernels.h5\n",
            "553467904/553467096 [==============================] - 4s 0us/step\n",
            "Epoch 1/10\n",
            "1250/1250 - 9229s - loss: 0.1226 - accuracy: 0.9530 - val_loss: 0.0911 - val_accuracy: 0.9632\n"
          ],
          "name": "stdout"
        },
        {
          "output_type": "execute_result",
          "data": {
            "text/plain": [
              "<tensorflow.python.keras.callbacks.History at 0x7f7994ff6be0>"
            ]
          },
          "metadata": {
            "tags": []
          },
          "execution_count": 10
        }
      ]
    },
    {
      "cell_type": "code",
      "metadata": {
        "id": "jjZ3Tpk6NZvI",
        "colab_type": "code",
        "colab": {
          "base_uri": "https://localhost:8080/",
          "height": 34
        },
        "outputId": "435b2359-f715-45fc-b3b1-a90fe9f068cc"
      },
      "source": [
        "train_batches.image_shape"
      ],
      "execution_count": 9,
      "outputs": [
        {
          "output_type": "execute_result",
          "data": {
            "text/plain": [
              "(224, 224, 3)"
            ]
          },
          "metadata": {
            "tags": []
          },
          "execution_count": 9
        }
      ]
    }
  ]
}